{
 "cells": [
  {
   "cell_type": "markdown",
   "metadata": {
    "editable": true
   },
   "source": [
    "# ETL Processes\n",
    "Use this notebook to develop the ETL process for each of your tables before completing the `etl.py` file to load the whole datasets."
   ]
  },
  {
   "cell_type": "code",
   "execution_count": 1,
   "metadata": {
    "editable": true
   },
   "outputs": [],
   "source": [
    "import os\n",
    "import glob\n",
    "import psycopg2\n",
    "from psycopg2 import Error\n",
    "import pandas as pd\n",
    "from sql_queries import *"
   ]
  },
  {
   "cell_type": "code",
   "execution_count": 2,
   "metadata": {
    "editable": true
   },
   "outputs": [],
   "source": [
    "import create_tables\n",
    "create_tables.main()\n",
    "try:\n",
    "    conn = psycopg2.connect(\"host=127.0.0.1 dbname=sparkifydb user=student password=student\")\n",
    "    cur  = conn.cursor()\n",
    "except Error as e:\n",
    "    print(\"COULD NOT CONNECT TO DATABASE:\")\n",
    "    print(e)"
   ]
  },
  {
   "cell_type": "code",
   "execution_count": 3,
   "metadata": {
    "editable": true
   },
   "outputs": [],
   "source": [
    "def get_files(filepath):\n",
    "    all_files = []\n",
    "    for root, dirs, files in os.walk(filepath):\n",
    "        files = glob.glob(os.path.join(root,'*.json'))\n",
    "        for f in files :\n",
    "            all_files.append(os.path.abspath(f))\n",
    "    \n",
    "    return all_files"
   ]
  },
  {
   "cell_type": "markdown",
   "metadata": {
    "editable": true
   },
   "source": [
    "# Process `song_data`\n",
    "In this first part, you'll perform ETL on the first dataset, `song_data`, to create the `songs` and `artists` dimensional tables.\n",
    "\n",
    "Let's perform ETL on a single song file and load a single record into each table to start.\n",
    "- Use the `get_files` function provided above to get a list of all song JSON files in `data/song_data`\n",
    "- Select the first song in this list\n",
    "- Read the song file and view the data"
   ]
  },
  {
   "cell_type": "code",
   "execution_count": 4,
   "metadata": {
    "editable": true
   },
   "outputs": [],
   "source": [
    "song_files = get_files(\"data/song_data\")"
   ]
  },
  {
   "cell_type": "code",
   "execution_count": 5,
   "metadata": {
    "editable": true
   },
   "outputs": [],
   "source": [
    "filepath = song_files[0]"
   ]
  },
  {
   "cell_type": "code",
   "execution_count": 6,
   "metadata": {
    "editable": true
   },
   "outputs": [
    {
     "data": {
      "text/html": [
       "<div>\n",
       "<style scoped>\n",
       "    .dataframe tbody tr th:only-of-type {\n",
       "        vertical-align: middle;\n",
       "    }\n",
       "\n",
       "    .dataframe tbody tr th {\n",
       "        vertical-align: top;\n",
       "    }\n",
       "\n",
       "    .dataframe thead th {\n",
       "        text-align: right;\n",
       "    }\n",
       "</style>\n",
       "<table border=\"1\" class=\"dataframe\">\n",
       "  <thead>\n",
       "    <tr style=\"text-align: right;\">\n",
       "      <th></th>\n",
       "      <th>artist_id</th>\n",
       "      <th>artist_latitude</th>\n",
       "      <th>artist_location</th>\n",
       "      <th>artist_longitude</th>\n",
       "      <th>artist_name</th>\n",
       "      <th>duration</th>\n",
       "      <th>num_songs</th>\n",
       "      <th>song_id</th>\n",
       "      <th>title</th>\n",
       "      <th>year</th>\n",
       "    </tr>\n",
       "  </thead>\n",
       "  <tbody>\n",
       "    <tr>\n",
       "      <th>0</th>\n",
       "      <td>ARD7TVE1187B99BFB1</td>\n",
       "      <td>NaN</td>\n",
       "      <td>California - LA</td>\n",
       "      <td>NaN</td>\n",
       "      <td>Casual</td>\n",
       "      <td>218.93179</td>\n",
       "      <td>1</td>\n",
       "      <td>SOMZWCG12A8C13C480</td>\n",
       "      <td>I Didn't Mean To</td>\n",
       "      <td>0</td>\n",
       "    </tr>\n",
       "  </tbody>\n",
       "</table>\n",
       "</div>"
      ],
      "text/plain": [
       "            artist_id  artist_latitude  artist_location  artist_longitude  \\\n",
       "0  ARD7TVE1187B99BFB1              NaN  California - LA               NaN   \n",
       "\n",
       "  artist_name   duration  num_songs             song_id             title  \\\n",
       "0      Casual  218.93179          1  SOMZWCG12A8C13C480  I Didn't Mean To   \n",
       "\n",
       "   year  \n",
       "0     0  "
      ]
     },
     "execution_count": 6,
     "metadata": {},
     "output_type": "execute_result"
    }
   ],
   "source": [
    "df = pd.read_json(filepath, lines = True)\n",
    "df.head()"
   ]
  },
  {
   "cell_type": "markdown",
   "metadata": {
    "editable": true
   },
   "source": [
    "## #1: `songs` Table\n",
    "#### Extract Data for Songs Table\n",
    "- Select columns for song ID, title, artist ID, year, and duration\n",
    "- Use `df.values` to select just the values from the dataframe\n",
    "- Index to select the first (only) record in the dataframe\n",
    "- Convert the array to a list and set it to `song_data`"
   ]
  },
  {
   "cell_type": "code",
   "execution_count": 7,
   "metadata": {
    "editable": true
   },
   "outputs": [
    {
     "name": "stdout",
     "output_type": "stream",
     "text": [
      "['SOMZWCG12A8C13C480', \"I Didn't Mean To\", 'ARD7TVE1187B99BFB1', 0, 218.93179]\n"
     ]
    }
   ],
   "source": [
    "song_data = df[['song_id', 'title', 'artist_id', 'year', 'duration']].values[0].tolist()\n",
    "print(song_data)"
   ]
  },
  {
   "cell_type": "markdown",
   "metadata": {
    "editable": true
   },
   "source": [
    "#### Insert Record into Song Table\n",
    "Implement the `song_table_insert` query in `sql_queries.py` and run the cell below to insert a record for this song into the `songs` table. Remember to run `create_tables.py` before running the cell below to ensure you've created/resetted the `songs` table in the sparkify database."
   ]
  },
  {
   "cell_type": "code",
   "execution_count": 8,
   "metadata": {
    "editable": true
   },
   "outputs": [
    {
     "name": "stdout",
     "output_type": "stream",
     "text": [
      "\n",
      "INSERT INTO songs \n",
      "    (song_id, title, artist_id, year, duration) \n",
      "        VALUES (%s, %s, %s, %s, %s)\n",
      "    ON CONFLICT (song_id) \n",
      "        DO NOTHING;\n",
      "\n",
      "['SOMZWCG12A8C13C480', \"I Didn't Mean To\", 'ARD7TVE1187B99BFB1', 0, 218.93179]\n",
      "SUCCESFUL IMPORT\n"
     ]
    }
   ],
   "source": [
    "print(song_table_insert)\n",
    "print(song_data)\n",
    "try:\n",
    "    cur.execute(song_table_insert, song_data)\n",
    "    conn.commit()\n",
    "    print(\"SUCCESFUL IMPORT\")\n",
    "except Error as e:\n",
    "    print(\"ERROR IMPORTING SONG:\")\n",
    "    print(e)"
   ]
  },
  {
   "cell_type": "markdown",
   "metadata": {
    "editable": true
   },
   "source": [
    "Run `test.ipynb` to see if you've successfully added a record to this table."
   ]
  },
  {
   "cell_type": "markdown",
   "metadata": {
    "editable": true
   },
   "source": [
    "## #2: `artists` Table\n",
    "#### Extract Data for Artists Table\n",
    "- Select columns for artist ID, name, location, latitude, and longitude\n",
    "- Use `df.values` to select just the values from the dataframe\n",
    "- Index to select the first (only) record in the dataframe\n",
    "- Convert the array to a list and set it to `artist_data`"
   ]
  },
  {
   "cell_type": "code",
   "execution_count": 9,
   "metadata": {
    "editable": true
   },
   "outputs": [
    {
     "name": "stdout",
     "output_type": "stream",
     "text": [
      "['ARD7TVE1187B99BFB1', 'Casual', 'California - LA', nan, nan]\n"
     ]
    }
   ],
   "source": [
    "artist_data = df[['artist_id', 'artist_name', 'artist_location','artist_latitude', 'artist_longitude']].values[0].tolist()\n",
    "print(artist_data)"
   ]
  },
  {
   "cell_type": "markdown",
   "metadata": {
    "editable": true
   },
   "source": [
    "#### Insert Record into Artist Table\n",
    "Implement the `artist_table_insert` query in `sql_queries.py` and run the cell below to insert a record for this song's artist into the `artists` table. Remember to run `create_tables.py` before running the cell below to ensure you've created/resetted the `artists` table in the sparkify database."
   ]
  },
  {
   "cell_type": "code",
   "execution_count": 10,
   "metadata": {
    "editable": true
   },
   "outputs": [
    {
     "name": "stdout",
     "output_type": "stream",
     "text": [
      "\n",
      "INSERT INTO artists\n",
      "    (artist_id, artist_name, artist_location, artist_latitude, artist_longitude) \n",
      "        VALUES (%s, %s, %s, %s, %s)\n",
      "    ON CONFLICT (artist_id)\n",
      "        DO NOTHING;\n",
      "\n",
      "['ARD7TVE1187B99BFB1', 'Casual', 'California - LA', nan, nan]\n",
      "SUCCESSFUL INSERT\n"
     ]
    }
   ],
   "source": [
    "print(artist_table_insert)\n",
    "print(artist_data)\n",
    "try:\n",
    "    cur.execute(artist_table_insert, artist_data)\n",
    "    conn.commit()\n",
    "    print('SUCCESSFUL INSERT')\n",
    "except Error as e:\n",
    "    print(\"ERROR IMPORTING ARTIST:\")\n",
    "    print(e)"
   ]
  },
  {
   "cell_type": "markdown",
   "metadata": {
    "editable": true
   },
   "source": [
    "Run `test.ipynb` to see if you've successfully added a record to this table."
   ]
  },
  {
   "cell_type": "markdown",
   "metadata": {
    "editable": true
   },
   "source": [
    "# Process `log_data`\n",
    "In this part, you'll perform ETL on the second dataset, `log_data`, to create the `time` and `users` dimensional tables, as well as the `songplays` fact table.\n",
    "\n",
    "Let's perform ETL on a single log file and load a single record into each table.\n",
    "- Use the `get_files` function provided above to get a list of all log JSON files in `data/log_data`\n",
    "- Select the first log file in this list\n",
    "- Read the log file and view the data"
   ]
  },
  {
   "cell_type": "code",
   "execution_count": 11,
   "metadata": {
    "editable": true
   },
   "outputs": [],
   "source": [
    "log_files = get_files(\"data/log_data/\")"
   ]
  },
  {
   "cell_type": "code",
   "execution_count": 12,
   "metadata": {
    "editable": true
   },
   "outputs": [],
   "source": [
    "filepath = log_files[0]"
   ]
  },
  {
   "cell_type": "code",
   "execution_count": 13,
   "metadata": {
    "editable": true
   },
   "outputs": [
    {
     "data": {
      "text/html": [
       "<div>\n",
       "<style scoped>\n",
       "    .dataframe tbody tr th:only-of-type {\n",
       "        vertical-align: middle;\n",
       "    }\n",
       "\n",
       "    .dataframe tbody tr th {\n",
       "        vertical-align: top;\n",
       "    }\n",
       "\n",
       "    .dataframe thead th {\n",
       "        text-align: right;\n",
       "    }\n",
       "</style>\n",
       "<table border=\"1\" class=\"dataframe\">\n",
       "  <thead>\n",
       "    <tr style=\"text-align: right;\">\n",
       "      <th></th>\n",
       "      <th>artist</th>\n",
       "      <th>auth</th>\n",
       "      <th>firstName</th>\n",
       "      <th>gender</th>\n",
       "      <th>itemInSession</th>\n",
       "      <th>lastName</th>\n",
       "      <th>length</th>\n",
       "      <th>level</th>\n",
       "      <th>location</th>\n",
       "      <th>method</th>\n",
       "      <th>page</th>\n",
       "      <th>registration</th>\n",
       "      <th>sessionId</th>\n",
       "      <th>song</th>\n",
       "      <th>status</th>\n",
       "      <th>ts</th>\n",
       "      <th>userAgent</th>\n",
       "      <th>userId</th>\n",
       "    </tr>\n",
       "  </thead>\n",
       "  <tbody>\n",
       "    <tr>\n",
       "      <th>0</th>\n",
       "      <td>Stephen Lynch</td>\n",
       "      <td>Logged In</td>\n",
       "      <td>Jayden</td>\n",
       "      <td>M</td>\n",
       "      <td>0</td>\n",
       "      <td>Bell</td>\n",
       "      <td>182.85669</td>\n",
       "      <td>free</td>\n",
       "      <td>Dallas-Fort Worth-Arlington, TX</td>\n",
       "      <td>PUT</td>\n",
       "      <td>NextSong</td>\n",
       "      <td>1.540992e+12</td>\n",
       "      <td>829</td>\n",
       "      <td>Jim Henson's Dead</td>\n",
       "      <td>200</td>\n",
       "      <td>1543537327796</td>\n",
       "      <td>Mozilla/5.0 (compatible; MSIE 10.0; Windows NT...</td>\n",
       "      <td>91</td>\n",
       "    </tr>\n",
       "    <tr>\n",
       "      <th>1</th>\n",
       "      <td>Manowar</td>\n",
       "      <td>Logged In</td>\n",
       "      <td>Jacob</td>\n",
       "      <td>M</td>\n",
       "      <td>0</td>\n",
       "      <td>Klein</td>\n",
       "      <td>247.56200</td>\n",
       "      <td>paid</td>\n",
       "      <td>Tampa-St. Petersburg-Clearwater, FL</td>\n",
       "      <td>PUT</td>\n",
       "      <td>NextSong</td>\n",
       "      <td>1.540558e+12</td>\n",
       "      <td>1049</td>\n",
       "      <td>Shell Shock</td>\n",
       "      <td>200</td>\n",
       "      <td>1543540121796</td>\n",
       "      <td>\"Mozilla/5.0 (Macintosh; Intel Mac OS X 10_9_4...</td>\n",
       "      <td>73</td>\n",
       "    </tr>\n",
       "    <tr>\n",
       "      <th>2</th>\n",
       "      <td>Morcheeba</td>\n",
       "      <td>Logged In</td>\n",
       "      <td>Jacob</td>\n",
       "      <td>M</td>\n",
       "      <td>1</td>\n",
       "      <td>Klein</td>\n",
       "      <td>257.41016</td>\n",
       "      <td>paid</td>\n",
       "      <td>Tampa-St. Petersburg-Clearwater, FL</td>\n",
       "      <td>PUT</td>\n",
       "      <td>NextSong</td>\n",
       "      <td>1.540558e+12</td>\n",
       "      <td>1049</td>\n",
       "      <td>Women Lose Weight (Feat: Slick Rick)</td>\n",
       "      <td>200</td>\n",
       "      <td>1543540368796</td>\n",
       "      <td>\"Mozilla/5.0 (Macintosh; Intel Mac OS X 10_9_4...</td>\n",
       "      <td>73</td>\n",
       "    </tr>\n",
       "    <tr>\n",
       "      <th>3</th>\n",
       "      <td>Maroon 5</td>\n",
       "      <td>Logged In</td>\n",
       "      <td>Jacob</td>\n",
       "      <td>M</td>\n",
       "      <td>2</td>\n",
       "      <td>Klein</td>\n",
       "      <td>231.23546</td>\n",
       "      <td>paid</td>\n",
       "      <td>Tampa-St. Petersburg-Clearwater, FL</td>\n",
       "      <td>PUT</td>\n",
       "      <td>NextSong</td>\n",
       "      <td>1.540558e+12</td>\n",
       "      <td>1049</td>\n",
       "      <td>Won't Go Home Without You</td>\n",
       "      <td>200</td>\n",
       "      <td>1543540625796</td>\n",
       "      <td>\"Mozilla/5.0 (Macintosh; Intel Mac OS X 10_9_4...</td>\n",
       "      <td>73</td>\n",
       "    </tr>\n",
       "    <tr>\n",
       "      <th>4</th>\n",
       "      <td>Train</td>\n",
       "      <td>Logged In</td>\n",
       "      <td>Jacob</td>\n",
       "      <td>M</td>\n",
       "      <td>3</td>\n",
       "      <td>Klein</td>\n",
       "      <td>216.76363</td>\n",
       "      <td>paid</td>\n",
       "      <td>Tampa-St. Petersburg-Clearwater, FL</td>\n",
       "      <td>PUT</td>\n",
       "      <td>NextSong</td>\n",
       "      <td>1.540558e+12</td>\n",
       "      <td>1049</td>\n",
       "      <td>Hey_ Soul Sister</td>\n",
       "      <td>200</td>\n",
       "      <td>1543540856796</td>\n",
       "      <td>\"Mozilla/5.0 (Macintosh; Intel Mac OS X 10_9_4...</td>\n",
       "      <td>73</td>\n",
       "    </tr>\n",
       "  </tbody>\n",
       "</table>\n",
       "</div>"
      ],
      "text/plain": [
       "          artist       auth firstName gender  itemInSession lastName  \\\n",
       "0  Stephen Lynch  Logged In    Jayden      M              0     Bell   \n",
       "1        Manowar  Logged In     Jacob      M              0    Klein   \n",
       "2      Morcheeba  Logged In     Jacob      M              1    Klein   \n",
       "3       Maroon 5  Logged In     Jacob      M              2    Klein   \n",
       "4          Train  Logged In     Jacob      M              3    Klein   \n",
       "\n",
       "      length level                             location method      page  \\\n",
       "0  182.85669  free      Dallas-Fort Worth-Arlington, TX    PUT  NextSong   \n",
       "1  247.56200  paid  Tampa-St. Petersburg-Clearwater, FL    PUT  NextSong   \n",
       "2  257.41016  paid  Tampa-St. Petersburg-Clearwater, FL    PUT  NextSong   \n",
       "3  231.23546  paid  Tampa-St. Petersburg-Clearwater, FL    PUT  NextSong   \n",
       "4  216.76363  paid  Tampa-St. Petersburg-Clearwater, FL    PUT  NextSong   \n",
       "\n",
       "   registration  sessionId                                  song  status  \\\n",
       "0  1.540992e+12        829                     Jim Henson's Dead     200   \n",
       "1  1.540558e+12       1049                           Shell Shock     200   \n",
       "2  1.540558e+12       1049  Women Lose Weight (Feat: Slick Rick)     200   \n",
       "3  1.540558e+12       1049             Won't Go Home Without You     200   \n",
       "4  1.540558e+12       1049                      Hey_ Soul Sister     200   \n",
       "\n",
       "              ts                                          userAgent userId  \n",
       "0  1543537327796  Mozilla/5.0 (compatible; MSIE 10.0; Windows NT...     91  \n",
       "1  1543540121796  \"Mozilla/5.0 (Macintosh; Intel Mac OS X 10_9_4...     73  \n",
       "2  1543540368796  \"Mozilla/5.0 (Macintosh; Intel Mac OS X 10_9_4...     73  \n",
       "3  1543540625796  \"Mozilla/5.0 (Macintosh; Intel Mac OS X 10_9_4...     73  \n",
       "4  1543540856796  \"Mozilla/5.0 (Macintosh; Intel Mac OS X 10_9_4...     73  "
      ]
     },
     "execution_count": 13,
     "metadata": {},
     "output_type": "execute_result"
    }
   ],
   "source": [
    "df = pd.read_json(filepath, lines = True) \n",
    "df.head()"
   ]
  },
  {
   "cell_type": "markdown",
   "metadata": {
    "editable": true
   },
   "source": [
    "## #3: `time` Table\n",
    "#### Extract Data for Time Table\n",
    "- Filter records by `NextSong` action\n",
    "- Convert the `ts` timestamp column to datetime\n",
    "  - Hint: the current timestamp is in milliseconds\n",
    "- Extract the timestamp, hour, day, week of year, month, year, and weekday from the `ts` column and set `time_data` to a list containing these values in order\n",
    "  - Hint: use pandas' [`dt` attribute](https://pandas.pydata.org/pandas-docs/stable/reference/api/pandas.Series.dt.html) to access easily datetimelike properties.\n",
    "- Specify labels for these columns and set to `column_labels`\n",
    "- Create a dataframe, `time_df,` containing the time data for this file by combining `column_labels` and `time_data` into a dictionary and converting this into a dataframe"
   ]
  },
  {
   "cell_type": "code",
   "execution_count": 14,
   "metadata": {
    "editable": true
   },
   "outputs": [
    {
     "data": {
      "text/html": [
       "<div>\n",
       "<style scoped>\n",
       "    .dataframe tbody tr th:only-of-type {\n",
       "        vertical-align: middle;\n",
       "    }\n",
       "\n",
       "    .dataframe tbody tr th {\n",
       "        vertical-align: top;\n",
       "    }\n",
       "\n",
       "    .dataframe thead th {\n",
       "        text-align: right;\n",
       "    }\n",
       "</style>\n",
       "<table border=\"1\" class=\"dataframe\">\n",
       "  <thead>\n",
       "    <tr style=\"text-align: right;\">\n",
       "      <th></th>\n",
       "      <th>artist</th>\n",
       "      <th>auth</th>\n",
       "      <th>firstName</th>\n",
       "      <th>gender</th>\n",
       "      <th>itemInSession</th>\n",
       "      <th>lastName</th>\n",
       "      <th>length</th>\n",
       "      <th>level</th>\n",
       "      <th>location</th>\n",
       "      <th>method</th>\n",
       "      <th>page</th>\n",
       "      <th>registration</th>\n",
       "      <th>sessionId</th>\n",
       "      <th>song</th>\n",
       "      <th>status</th>\n",
       "      <th>ts</th>\n",
       "      <th>userAgent</th>\n",
       "      <th>userId</th>\n",
       "    </tr>\n",
       "  </thead>\n",
       "  <tbody>\n",
       "    <tr>\n",
       "      <th>0</th>\n",
       "      <td>Stephen Lynch</td>\n",
       "      <td>Logged In</td>\n",
       "      <td>Jayden</td>\n",
       "      <td>M</td>\n",
       "      <td>0</td>\n",
       "      <td>Bell</td>\n",
       "      <td>182.85669</td>\n",
       "      <td>free</td>\n",
       "      <td>Dallas-Fort Worth-Arlington, TX</td>\n",
       "      <td>PUT</td>\n",
       "      <td>NextSong</td>\n",
       "      <td>1.540992e+12</td>\n",
       "      <td>829</td>\n",
       "      <td>Jim Henson's Dead</td>\n",
       "      <td>200</td>\n",
       "      <td>1543537327796</td>\n",
       "      <td>Mozilla/5.0 (compatible; MSIE 10.0; Windows NT...</td>\n",
       "      <td>91</td>\n",
       "    </tr>\n",
       "    <tr>\n",
       "      <th>1</th>\n",
       "      <td>Manowar</td>\n",
       "      <td>Logged In</td>\n",
       "      <td>Jacob</td>\n",
       "      <td>M</td>\n",
       "      <td>0</td>\n",
       "      <td>Klein</td>\n",
       "      <td>247.56200</td>\n",
       "      <td>paid</td>\n",
       "      <td>Tampa-St. Petersburg-Clearwater, FL</td>\n",
       "      <td>PUT</td>\n",
       "      <td>NextSong</td>\n",
       "      <td>1.540558e+12</td>\n",
       "      <td>1049</td>\n",
       "      <td>Shell Shock</td>\n",
       "      <td>200</td>\n",
       "      <td>1543540121796</td>\n",
       "      <td>\"Mozilla/5.0 (Macintosh; Intel Mac OS X 10_9_4...</td>\n",
       "      <td>73</td>\n",
       "    </tr>\n",
       "    <tr>\n",
       "      <th>2</th>\n",
       "      <td>Morcheeba</td>\n",
       "      <td>Logged In</td>\n",
       "      <td>Jacob</td>\n",
       "      <td>M</td>\n",
       "      <td>1</td>\n",
       "      <td>Klein</td>\n",
       "      <td>257.41016</td>\n",
       "      <td>paid</td>\n",
       "      <td>Tampa-St. Petersburg-Clearwater, FL</td>\n",
       "      <td>PUT</td>\n",
       "      <td>NextSong</td>\n",
       "      <td>1.540558e+12</td>\n",
       "      <td>1049</td>\n",
       "      <td>Women Lose Weight (Feat: Slick Rick)</td>\n",
       "      <td>200</td>\n",
       "      <td>1543540368796</td>\n",
       "      <td>\"Mozilla/5.0 (Macintosh; Intel Mac OS X 10_9_4...</td>\n",
       "      <td>73</td>\n",
       "    </tr>\n",
       "    <tr>\n",
       "      <th>3</th>\n",
       "      <td>Maroon 5</td>\n",
       "      <td>Logged In</td>\n",
       "      <td>Jacob</td>\n",
       "      <td>M</td>\n",
       "      <td>2</td>\n",
       "      <td>Klein</td>\n",
       "      <td>231.23546</td>\n",
       "      <td>paid</td>\n",
       "      <td>Tampa-St. Petersburg-Clearwater, FL</td>\n",
       "      <td>PUT</td>\n",
       "      <td>NextSong</td>\n",
       "      <td>1.540558e+12</td>\n",
       "      <td>1049</td>\n",
       "      <td>Won't Go Home Without You</td>\n",
       "      <td>200</td>\n",
       "      <td>1543540625796</td>\n",
       "      <td>\"Mozilla/5.0 (Macintosh; Intel Mac OS X 10_9_4...</td>\n",
       "      <td>73</td>\n",
       "    </tr>\n",
       "    <tr>\n",
       "      <th>4</th>\n",
       "      <td>Train</td>\n",
       "      <td>Logged In</td>\n",
       "      <td>Jacob</td>\n",
       "      <td>M</td>\n",
       "      <td>3</td>\n",
       "      <td>Klein</td>\n",
       "      <td>216.76363</td>\n",
       "      <td>paid</td>\n",
       "      <td>Tampa-St. Petersburg-Clearwater, FL</td>\n",
       "      <td>PUT</td>\n",
       "      <td>NextSong</td>\n",
       "      <td>1.540558e+12</td>\n",
       "      <td>1049</td>\n",
       "      <td>Hey_ Soul Sister</td>\n",
       "      <td>200</td>\n",
       "      <td>1543540856796</td>\n",
       "      <td>\"Mozilla/5.0 (Macintosh; Intel Mac OS X 10_9_4...</td>\n",
       "      <td>73</td>\n",
       "    </tr>\n",
       "  </tbody>\n",
       "</table>\n",
       "</div>"
      ],
      "text/plain": [
       "          artist       auth firstName gender  itemInSession lastName  \\\n",
       "0  Stephen Lynch  Logged In    Jayden      M              0     Bell   \n",
       "1        Manowar  Logged In     Jacob      M              0    Klein   \n",
       "2      Morcheeba  Logged In     Jacob      M              1    Klein   \n",
       "3       Maroon 5  Logged In     Jacob      M              2    Klein   \n",
       "4          Train  Logged In     Jacob      M              3    Klein   \n",
       "\n",
       "      length level                             location method      page  \\\n",
       "0  182.85669  free      Dallas-Fort Worth-Arlington, TX    PUT  NextSong   \n",
       "1  247.56200  paid  Tampa-St. Petersburg-Clearwater, FL    PUT  NextSong   \n",
       "2  257.41016  paid  Tampa-St. Petersburg-Clearwater, FL    PUT  NextSong   \n",
       "3  231.23546  paid  Tampa-St. Petersburg-Clearwater, FL    PUT  NextSong   \n",
       "4  216.76363  paid  Tampa-St. Petersburg-Clearwater, FL    PUT  NextSong   \n",
       "\n",
       "   registration  sessionId                                  song  status  \\\n",
       "0  1.540992e+12        829                     Jim Henson's Dead     200   \n",
       "1  1.540558e+12       1049                           Shell Shock     200   \n",
       "2  1.540558e+12       1049  Women Lose Weight (Feat: Slick Rick)     200   \n",
       "3  1.540558e+12       1049             Won't Go Home Without You     200   \n",
       "4  1.540558e+12       1049                      Hey_ Soul Sister     200   \n",
       "\n",
       "              ts                                          userAgent userId  \n",
       "0  1543537327796  Mozilla/5.0 (compatible; MSIE 10.0; Windows NT...     91  \n",
       "1  1543540121796  \"Mozilla/5.0 (Macintosh; Intel Mac OS X 10_9_4...     73  \n",
       "2  1543540368796  \"Mozilla/5.0 (Macintosh; Intel Mac OS X 10_9_4...     73  \n",
       "3  1543540625796  \"Mozilla/5.0 (Macintosh; Intel Mac OS X 10_9_4...     73  \n",
       "4  1543540856796  \"Mozilla/5.0 (Macintosh; Intel Mac OS X 10_9_4...     73  "
      ]
     },
     "execution_count": 14,
     "metadata": {},
     "output_type": "execute_result"
    }
   ],
   "source": [
    "df = df.loc[df['page'] == 'NextSong']\n",
    "df.head()"
   ]
  },
  {
   "cell_type": "code",
   "execution_count": 15,
   "metadata": {
    "editable": true
   },
   "outputs": [
    {
     "data": {
      "text/plain": [
       "0   2018-11-30 00:22:07.796\n",
       "1   2018-11-30 01:08:41.796\n",
       "2   2018-11-30 01:12:48.796\n",
       "3   2018-11-30 01:17:05.796\n",
       "4   2018-11-30 01:20:56.796\n",
       "Name: ts, dtype: datetime64[ns]"
      ]
     },
     "execution_count": 15,
     "metadata": {},
     "output_type": "execute_result"
    }
   ],
   "source": [
    "t = pd.to_datetime(df['ts'], unit='ms')\n",
    "t.head()"
   ]
  },
  {
   "cell_type": "code",
   "execution_count": 16,
   "metadata": {
    "editable": true
   },
   "outputs": [],
   "source": [
    "time_data = [df.ts.values, \n",
    "             t.dt.hour.values, \n",
    "             t.dt.day.values,\n",
    "             t.dt.weekofyear.values, \n",
    "             t.dt.month.values, \n",
    "             t.dt.year.values,\n",
    "             t.dt.weekday.values]\n",
    "column_labels = [\"start_time\", \"hour\", \"day\", \"week\", \"month\", \"year\", \"weekday\"]"
   ]
  },
  {
   "cell_type": "code",
   "execution_count": 17,
   "metadata": {
    "editable": true
   },
   "outputs": [
    {
     "data": {
      "text/html": [
       "<div>\n",
       "<style scoped>\n",
       "    .dataframe tbody tr th:only-of-type {\n",
       "        vertical-align: middle;\n",
       "    }\n",
       "\n",
       "    .dataframe tbody tr th {\n",
       "        vertical-align: top;\n",
       "    }\n",
       "\n",
       "    .dataframe thead th {\n",
       "        text-align: right;\n",
       "    }\n",
       "</style>\n",
       "<table border=\"1\" class=\"dataframe\">\n",
       "  <thead>\n",
       "    <tr style=\"text-align: right;\">\n",
       "      <th></th>\n",
       "      <th>start_time</th>\n",
       "      <th>hour</th>\n",
       "      <th>day</th>\n",
       "      <th>week</th>\n",
       "      <th>month</th>\n",
       "      <th>year</th>\n",
       "      <th>weekday</th>\n",
       "    </tr>\n",
       "  </thead>\n",
       "  <tbody>\n",
       "    <tr>\n",
       "      <th>0</th>\n",
       "      <td>1543537327796</td>\n",
       "      <td>0</td>\n",
       "      <td>30</td>\n",
       "      <td>48</td>\n",
       "      <td>11</td>\n",
       "      <td>2018</td>\n",
       "      <td>4</td>\n",
       "    </tr>\n",
       "    <tr>\n",
       "      <th>1</th>\n",
       "      <td>1543540121796</td>\n",
       "      <td>1</td>\n",
       "      <td>30</td>\n",
       "      <td>48</td>\n",
       "      <td>11</td>\n",
       "      <td>2018</td>\n",
       "      <td>4</td>\n",
       "    </tr>\n",
       "    <tr>\n",
       "      <th>2</th>\n",
       "      <td>1543540368796</td>\n",
       "      <td>1</td>\n",
       "      <td>30</td>\n",
       "      <td>48</td>\n",
       "      <td>11</td>\n",
       "      <td>2018</td>\n",
       "      <td>4</td>\n",
       "    </tr>\n",
       "    <tr>\n",
       "      <th>3</th>\n",
       "      <td>1543540625796</td>\n",
       "      <td>1</td>\n",
       "      <td>30</td>\n",
       "      <td>48</td>\n",
       "      <td>11</td>\n",
       "      <td>2018</td>\n",
       "      <td>4</td>\n",
       "    </tr>\n",
       "    <tr>\n",
       "      <th>4</th>\n",
       "      <td>1543540856796</td>\n",
       "      <td>1</td>\n",
       "      <td>30</td>\n",
       "      <td>48</td>\n",
       "      <td>11</td>\n",
       "      <td>2018</td>\n",
       "      <td>4</td>\n",
       "    </tr>\n",
       "  </tbody>\n",
       "</table>\n",
       "</div>"
      ],
      "text/plain": [
       "      start_time  hour  day  week  month  year  weekday\n",
       "0  1543537327796     0   30    48     11  2018        4\n",
       "1  1543540121796     1   30    48     11  2018        4\n",
       "2  1543540368796     1   30    48     11  2018        4\n",
       "3  1543540625796     1   30    48     11  2018        4\n",
       "4  1543540856796     1   30    48     11  2018        4"
      ]
     },
     "execution_count": 17,
     "metadata": {},
     "output_type": "execute_result"
    }
   ],
   "source": [
    "time_df = pd.DataFrame(dict(zip(column_labels, time_data)))\n",
    "time_df.head()"
   ]
  },
  {
   "cell_type": "markdown",
   "metadata": {
    "editable": true
   },
   "source": [
    "#### Insert Records into Time Table\n",
    "Implement the `time_table_insert` query in `sql_queries.py` and run the cell below to insert records for the timestamps in this log file into the `time` table. Remember to run `create_tables.py` before running the cell below to ensure you've created/resetted the `time` table in the sparkify database."
   ]
  },
  {
   "cell_type": "code",
   "execution_count": 18,
   "metadata": {
    "editable": true
   },
   "outputs": [
    {
     "name": "stdout",
     "output_type": "stream",
     "text": [
      "\n",
      "INSERT INTO time\n",
      "    (start_time, hour, day, week, month, year, weekday) \n",
      "        VALUES (%s, %s, %s, %s, %s, %s, %s)\n",
      "    ON CONFLICT (start_time)\n",
      "        DO NOTHING;\n",
      "\n",
      "      start_time  hour  day  week  month  year  weekday\n",
      "0  1543537327796     0   30    48     11  2018        4\n",
      "1  1543540121796     1   30    48     11  2018        4\n",
      "2  1543540368796     1   30    48     11  2018        4\n",
      "3  1543540625796     1   30    48     11  2018        4\n",
      "4  1543540856796     1   30    48     11  2018        4\n"
     ]
    }
   ],
   "source": [
    "print(time_table_insert)\n",
    "print(time_df.head())\n",
    "for i, row in time_df.iterrows():\n",
    "    try:\n",
    "        cur.execute(time_table_insert, list(row))\n",
    "        conn.commit()\n",
    "    except Error as e:\n",
    "        print(e)"
   ]
  },
  {
   "cell_type": "markdown",
   "metadata": {
    "editable": true
   },
   "source": [
    "Run `test.ipynb` to see if you've successfully added records to this table."
   ]
  },
  {
   "cell_type": "markdown",
   "metadata": {
    "editable": true
   },
   "source": [
    "## #4: `users` Table\n",
    "#### Extract Data for Users Table\n",
    "- Select columns for user ID, first name, last name, gender and level and set to `user_df`"
   ]
  },
  {
   "cell_type": "code",
   "execution_count": 19,
   "metadata": {
    "editable": true
   },
   "outputs": [
    {
     "name": "stdout",
     "output_type": "stream",
     "text": [
      "['91', 'Jayden', 'Bell', 'free', 'M', 'Dallas-Fort Worth-Arlington, TX']\n"
     ]
    }
   ],
   "source": [
    "user_df = df[[\"userId\", \"firstName\",\"lastName\", \"level\", \"gender\", \"location\"]]\n",
    "print(user_df.values[0].tolist())"
   ]
  },
  {
   "cell_type": "markdown",
   "metadata": {
    "editable": true
   },
   "source": [
    "#### Insert Records into Users Table\n",
    "Implement the `user_table_insert` query in `sql_queries.py` and run the cell below to insert records for the users in this log file into the `users` table. Remember to run `create_tables.py` before running the cell below to ensure you've created/resetted the `users` table in the sparkify database."
   ]
  },
  {
   "cell_type": "code",
   "execution_count": 20,
   "metadata": {
    "editable": true
   },
   "outputs": [
    {
     "name": "stdout",
     "output_type": "stream",
     "text": [
      "\n",
      "INSERT INTO users\n",
      "    (user_id, first_name, last_name, level, gender, location)\n",
      "        VALUES (%s, %s, %s, %s, %s, %s)\n",
      "    ON CONFLICT (user_id)\n",
      "        DO NOTHING;\n",
      "\n",
      "  userId firstName lastName level gender                             location\n",
      "0     91    Jayden     Bell  free      M      Dallas-Fort Worth-Arlington, TX\n",
      "1     73     Jacob    Klein  paid      M  Tampa-St. Petersburg-Clearwater, FL\n",
      "2     73     Jacob    Klein  paid      M  Tampa-St. Petersburg-Clearwater, FL\n",
      "3     73     Jacob    Klein  paid      M  Tampa-St. Petersburg-Clearwater, FL\n",
      "4     73     Jacob    Klein  paid      M  Tampa-St. Petersburg-Clearwater, FL\n"
     ]
    }
   ],
   "source": [
    "print(user_table_insert)\n",
    "print(user_df.head())\n",
    "for i, row in user_df.iterrows():\n",
    "    try:\n",
    "        cur.execute(user_table_insert, row)\n",
    "        conn.commit()\n",
    "    except Error as e:\n",
    "        print(e)"
   ]
  },
  {
   "cell_type": "markdown",
   "metadata": {
    "editable": true
   },
   "source": [
    "Run `test.ipynb` to see if you've successfully added records to this table."
   ]
  },
  {
   "cell_type": "markdown",
   "metadata": {
    "editable": true
   },
   "source": [
    "## #5: `songplays` Table\n",
    "#### Extract Data and Songplays Table\n",
    "This one is a little more complicated since information from the songs table, artists table, and original log file are all needed for the `songplays` table. Since the log file does not specify an ID for either the song or the artist, you'll need to get the song ID and artist ID by querying the songs and artists tables to find matches based on song title, artist name, and song duration time.\n",
    "- Implement the `song_select` query in `sql_queries.py` to find the song ID and artist ID based on the title, artist name, and duration of a song.\n",
    "- Select the timestamp, user ID, level, song ID, artist ID, session ID, location, and user agent and set to `songplay_data`\n",
    "\n",
    "#### Insert Records into Songplays Table\n",
    "- Implement the `songplay_table_insert` query and run the cell below to insert records for the songplay actions in this log file into the `songplays` table. Remember to run `create_tables.py` before running the cell below to ensure you've created/resetted the `songplays` table in the sparkify database."
   ]
  },
  {
   "cell_type": "code",
   "execution_count": 21,
   "metadata": {
    "editable": true
   },
   "outputs": [
    {
     "name": "stdout",
     "output_type": "stream",
     "text": [
      "\n",
      "INSERT INTO songplays\n",
      "    (timestamp, user_id, level, song_id, \n",
      "    artist_id, session_id, location, user_agent)\n",
      "        VALUES (%s, %s, %s, %s, %s, %s, %s, %s)\n",
      "    ON CONFLICT \n",
      "        DO NOTHING\n",
      "\n",
      "\n",
      "SELECT songs.song_id, artists.artist_id \n",
      "    FROM songs \n",
      "        JOIN artists \n",
      "        ON songs.artist_id = artists.artist_id \n",
      "    WHERE songs.title = %s \n",
      "        AND artists.artist_name = %s \n",
      "        AND songs.duration = %s\n",
      "\n"
     ]
    }
   ],
   "source": [
    "print(songplay_table_insert)\n",
    "print(song_select)\n",
    "for index, row in df.iterrows():\n",
    "    # get songid and artistid from song and artist tables\n",
    "    try: \n",
    "        cur.execute(song_select, (row.song, row.artist, row.length))\n",
    "        results = cur.fetchone()\n",
    "    except Error as e:\n",
    "        results = None\n",
    "        print(e)\n",
    "    \n",
    "    #\n",
    "    if results:\n",
    "        songid, artistid = results\n",
    "    else:\n",
    "        songid, artistid = None, None\n",
    "    \n",
    "    # insert songplay record\n",
    "    songplay_data = (row.ts, row.userId, row.level, songid, artistid, row.sessionId, row.location, row.userAgent)\n",
    "    \n",
    "    #\n",
    "    try:\n",
    "        cur.execute(songplay_table_insert, songplay_data)\n",
    "        conn.commit()\n",
    "    except Error as e:\n",
    "        print(e)\n"
   ]
  },
  {
   "cell_type": "markdown",
   "metadata": {
    "editable": true
   },
   "source": [
    "Run `test.ipynb` to see if you've successfully added records to this table."
   ]
  },
  {
   "cell_type": "markdown",
   "metadata": {
    "editable": true
   },
   "source": [
    "# Close Connection to Sparkify Database"
   ]
  },
  {
   "cell_type": "code",
   "execution_count": 22,
   "metadata": {
    "editable": true
   },
   "outputs": [],
   "source": [
    "conn.close()"
   ]
  },
  {
   "cell_type": "markdown",
   "metadata": {
    "editable": true
   },
   "source": [
    "# Implement `etl.py`\n",
    "Use what you've completed in this notebook to implement `etl.py`."
   ]
  },
  {
   "cell_type": "code",
   "execution_count": 23,
   "metadata": {
    "editable": true
   },
   "outputs": [
    {
     "name": "stdout",
     "output_type": "stream",
     "text": [
      "71 files found in data/song_data\n",
      "/home/workspace/data/song_data/A/A/A/TRAAAAW128F429D538.json\n",
      "1/71 files processed.\n",
      "/home/workspace/data/song_data/A/A/A/TRAAAVG12903CFA543.json\n",
      "2/71 files processed.\n",
      "/home/workspace/data/song_data/A/A/A/TRAAARJ128F9320760.json\n",
      "3/71 files processed.\n",
      "/home/workspace/data/song_data/A/A/A/TRAAAPK128E0786D96.json\n",
      "4/71 files processed.\n",
      "/home/workspace/data/song_data/A/A/A/TRAAABD128F429CF47.json\n",
      "5/71 files processed.\n",
      "/home/workspace/data/song_data/A/A/A/TRAAAMO128F1481E7F.json\n",
      "6/71 files processed.\n",
      "/home/workspace/data/song_data/A/A/A/TRAAAMQ128F1460CD3.json\n",
      "7/71 files processed.\n",
      "/home/workspace/data/song_data/A/A/A/TRAAAVO128F93133D4.json\n",
      "8/71 files processed.\n",
      "/home/workspace/data/song_data/A/A/A/TRAAAEF128F4273421.json\n",
      "9/71 files processed.\n",
      "/home/workspace/data/song_data/A/A/A/TRAAAFD128F92F423A.json\n",
      "10/71 files processed.\n",
      "/home/workspace/data/song_data/A/A/A/TRAAADZ128F9348C2E.json\n",
      "11/71 files processed.\n",
      "/home/workspace/data/song_data/A/A/B/TRAABNV128F425CEE1.json\n",
      "12/71 files processed.\n",
      "/home/workspace/data/song_data/A/A/B/TRAABRB128F9306DD5.json\n",
      "13/71 files processed.\n",
      "/home/workspace/data/song_data/A/A/B/TRAABLR128F423B7E3.json\n",
      "14/71 files processed.\n",
      "/home/workspace/data/song_data/A/A/B/TRAABDL12903CAABBA.json\n",
      "15/71 files processed.\n",
      "/home/workspace/data/song_data/A/A/B/TRAABJL12903CDCF1A.json\n",
      "16/71 files processed.\n",
      "/home/workspace/data/song_data/A/A/B/TRAABVM128F92CA9DC.json\n",
      "17/71 files processed.\n",
      "/home/workspace/data/song_data/A/A/B/TRAABYN12903CFD305.json\n",
      "18/71 files processed.\n",
      "/home/workspace/data/song_data/A/A/B/TRAABXG128F9318EBD.json\n",
      "19/71 files processed.\n",
      "/home/workspace/data/song_data/A/A/B/TRAABCL128F4286650.json\n",
      "20/71 files processed.\n",
      "/home/workspace/data/song_data/A/A/B/TRAABYW128F4244559.json\n",
      "21/71 files processed.\n",
      "/home/workspace/data/song_data/A/A/B/TRAABJV128F1460C49.json\n",
      "22/71 files processed.\n",
      "/home/workspace/data/song_data/A/A/C/TRAACVS128E078BE39.json\n",
      "23/71 files processed.\n",
      "/home/workspace/data/song_data/A/A/C/TRAACPE128F421C1B9.json\n",
      "24/71 files processed.\n",
      "/home/workspace/data/song_data/A/A/C/TRAACLV128F427E123.json\n",
      "25/71 files processed.\n",
      "/home/workspace/data/song_data/A/A/C/TRAACER128F4290F96.json\n",
      "26/71 files processed.\n",
      "/home/workspace/data/song_data/A/A/C/TRAACTB12903CAAF15.json\n",
      "27/71 files processed.\n",
      "/home/workspace/data/song_data/A/A/C/TRAACFV128F935E50B.json\n",
      "28/71 files processed.\n",
      "/home/workspace/data/song_data/A/A/C/TRAACIW12903CC0F6D.json\n",
      "29/71 files processed.\n",
      "/home/workspace/data/song_data/A/A/C/TRAACOW128F933E35F.json\n",
      "30/71 files processed.\n",
      "/home/workspace/data/song_data/A/A/C/TRAACHN128F1489601.json\n",
      "31/71 files processed.\n",
      "/home/workspace/data/song_data/A/A/C/TRAACCG128F92E8A55.json\n",
      "32/71 files processed.\n",
      "/home/workspace/data/song_data/A/A/C/TRAACQT128F9331780.json\n",
      "33/71 files processed.\n",
      "/home/workspace/data/song_data/A/A/C/TRAACNS128F14A2DF5.json\n",
      "34/71 files processed.\n",
      "/home/workspace/data/song_data/A/A/C/TRAACSL128F93462F4.json\n",
      "35/71 files processed.\n",
      "/home/workspace/data/song_data/A/A/C/TRAACZK128F4243829.json\n",
      "36/71 files processed.\n",
      "/home/workspace/data/song_data/A/B/A/TRABAIO128F42938F9.json\n",
      "37/71 files processed.\n",
      "/home/workspace/data/song_data/A/B/A/TRABAWW128F4250A31.json\n",
      "38/71 files processed.\n",
      "/home/workspace/data/song_data/A/B/A/TRABAZH128F930419A.json\n",
      "39/71 files processed.\n",
      "/home/workspace/data/song_data/A/B/A/TRABAVQ12903CBF7E0.json\n",
      "40/71 files processed.\n",
      "/home/workspace/data/song_data/A/B/A/TRABAXR128F426515F.json\n",
      "41/71 files processed.\n",
      "/home/workspace/data/song_data/A/B/A/TRABAXL128F424FC50.json\n",
      "42/71 files processed.\n",
      "/home/workspace/data/song_data/A/B/A/TRABAFJ128F42AF24E.json\n",
      "43/71 files processed.\n",
      "/home/workspace/data/song_data/A/B/A/TRABAXV128F92F6AE3.json\n",
      "44/71 files processed.\n",
      "/home/workspace/data/song_data/A/B/A/TRABACN128F425B784.json\n",
      "45/71 files processed.\n",
      "/home/workspace/data/song_data/A/B/A/TRABATO128F42627E9.json\n",
      "46/71 files processed.\n",
      "/home/workspace/data/song_data/A/B/A/TRABAFP128F931E9A1.json\n",
      "47/71 files processed.\n",
      "/home/workspace/data/song_data/A/B/B/TRABBVJ128F92F7EAA.json\n",
      "48/71 files processed.\n",
      "/home/workspace/data/song_data/A/B/B/TRABBXU128F92FEF48.json\n",
      "49/71 files processed.\n",
      "/home/workspace/data/song_data/A/B/B/TRABBAM128F429D223.json\n",
      "50/71 files processed.\n",
      "/home/workspace/data/song_data/A/B/B/TRABBZN12903CD9297.json\n",
      "51/71 files processed.\n",
      "/home/workspace/data/song_data/A/B/B/TRABBNP128F932546F.json\n",
      "52/71 files processed.\n",
      "/home/workspace/data/song_data/A/B/B/TRABBOR128F4286200.json\n",
      "53/71 files processed.\n",
      "/home/workspace/data/song_data/A/B/B/TRABBOP128F931B50D.json\n",
      "54/71 files processed.\n",
      "/home/workspace/data/song_data/A/B/B/TRABBLU128F93349CF.json\n",
      "55/71 files processed.\n",
      "/home/workspace/data/song_data/A/B/B/TRABBBV128F42967D7.json\n",
      "56/71 files processed.\n",
      "/home/workspace/data/song_data/A/B/B/TRABBJE12903CDB442.json\n",
      "57/71 files processed.\n",
      "/home/workspace/data/song_data/A/B/B/TRABBKX128F4285205.json\n",
      "58/71 files processed.\n",
      "/home/workspace/data/song_data/A/B/B/TRABBTA128F933D304.json\n",
      "59/71 files processed.\n",
      "/home/workspace/data/song_data/A/B/C/TRABCEI128F424C983.json\n",
      "60/71 files processed.\n",
      "/home/workspace/data/song_data/A/B/C/TRABCUQ128E0783E2B.json\n",
      "61/71 files processed.\n",
      "/home/workspace/data/song_data/A/B/C/TRABCTK128F934B224.json\n",
      "62/71 files processed.\n",
      "/home/workspace/data/song_data/A/B/C/TRABCIX128F4265903.json\n",
      "63/71 files processed.\n",
      "/home/workspace/data/song_data/A/B/C/TRABCEC128F426456E.json\n",
      "64/71 files processed.\n",
      "/home/workspace/data/song_data/A/B/C/TRABCPZ128F4275C32.json\n",
      "65/71 files processed.\n",
      "/home/workspace/data/song_data/A/B/C/TRABCXB128F4286BD3.json\n",
      "66/71 files processed.\n",
      "/home/workspace/data/song_data/A/B/C/TRABCAJ12903CDFCC2.json\n",
      "67/71 files processed.\n",
      "/home/workspace/data/song_data/A/B/C/TRABCFL128F149BB0D.json\n",
      "68/71 files processed.\n",
      "/home/workspace/data/song_data/A/B/C/TRABCKL128F423A778.json\n",
      "69/71 files processed.\n",
      "/home/workspace/data/song_data/A/B/C/TRABCRU128F423F449.json\n",
      "70/71 files processed.\n",
      "/home/workspace/data/song_data/A/B/C/TRABCYE128F934CE1D.json\n",
      "71/71 files processed.\n",
      "30 files found in data/log_data\n",
      "/home/workspace/data/log_data/2018/11/2018-11-30-events.json\n",
      "1/30 files processed.\n",
      "/home/workspace/data/log_data/2018/11/2018-11-11-events.json\n",
      "2/30 files processed.\n",
      "/home/workspace/data/log_data/2018/11/2018-11-23-events.json\n",
      "3/30 files processed.\n",
      "/home/workspace/data/log_data/2018/11/2018-11-24-events.json\n",
      "4/30 files processed.\n",
      "/home/workspace/data/log_data/2018/11/2018-11-25-events.json\n",
      "5/30 files processed.\n",
      "/home/workspace/data/log_data/2018/11/2018-11-20-events.json\n",
      "6/30 files processed.\n",
      "/home/workspace/data/log_data/2018/11/2018-11-15-events.json\n",
      "7/30 files processed.\n",
      "/home/workspace/data/log_data/2018/11/2018-11-01-events.json\n",
      "8/30 files processed.\n",
      "/home/workspace/data/log_data/2018/11/2018-11-03-events.json\n",
      "9/30 files processed.\n",
      "/home/workspace/data/log_data/2018/11/2018-11-13-events.json\n",
      "10/30 files processed.\n",
      "/home/workspace/data/log_data/2018/11/2018-11-10-events.json\n",
      "11/30 files processed.\n",
      "/home/workspace/data/log_data/2018/11/2018-11-28-events.json\n",
      "12/30 files processed.\n",
      "/home/workspace/data/log_data/2018/11/2018-11-26-events.json\n",
      "13/30 files processed.\n",
      "/home/workspace/data/log_data/2018/11/2018-11-04-events.json\n",
      "14/30 files processed.\n",
      "/home/workspace/data/log_data/2018/11/2018-11-14-events.json\n",
      "15/30 files processed.\n",
      "/home/workspace/data/log_data/2018/11/2018-11-27-events.json\n",
      "16/30 files processed.\n",
      "/home/workspace/data/log_data/2018/11/2018-11-21-events.json\n",
      "--------------------------\n",
      "FOUND AN ARIST AND SONG IT\n",
      "--------------------------\n",
      "17/30 files processed.\n",
      "/home/workspace/data/log_data/2018/11/2018-11-06-events.json\n",
      "18/30 files processed.\n",
      "/home/workspace/data/log_data/2018/11/2018-11-22-events.json\n",
      "19/30 files processed.\n",
      "/home/workspace/data/log_data/2018/11/2018-11-12-events.json\n",
      "20/30 files processed.\n",
      "/home/workspace/data/log_data/2018/11/2018-11-05-events.json\n",
      "21/30 files processed.\n",
      "/home/workspace/data/log_data/2018/11/2018-11-09-events.json\n",
      "22/30 files processed.\n",
      "/home/workspace/data/log_data/2018/11/2018-11-08-events.json\n",
      "23/30 files processed.\n",
      "/home/workspace/data/log_data/2018/11/2018-11-02-events.json\n",
      "24/30 files processed.\n",
      "/home/workspace/data/log_data/2018/11/2018-11-18-events.json\n",
      "25/30 files processed.\n",
      "/home/workspace/data/log_data/2018/11/2018-11-07-events.json\n",
      "26/30 files processed.\n",
      "/home/workspace/data/log_data/2018/11/2018-11-16-events.json\n",
      "27/30 files processed.\n",
      "/home/workspace/data/log_data/2018/11/2018-11-29-events.json\n",
      "28/30 files processed.\n",
      "/home/workspace/data/log_data/2018/11/2018-11-19-events.json\n",
      "29/30 files processed.\n",
      "/home/workspace/data/log_data/2018/11/2018-11-17-events.json\n",
      "30/30 files processed.\n"
     ]
    }
   ],
   "source": [
    "import etl\n",
    "etl.main()"
   ]
  }
 ],
 "metadata": {
  "kernelspec": {
   "display_name": "Python 3",
   "language": "python",
   "name": "python3"
  },
  "language_info": {
   "codemirror_mode": {
    "name": "ipython",
    "version": 3
   },
   "file_extension": ".py",
   "mimetype": "text/x-python",
   "name": "python",
   "nbconvert_exporter": "python",
   "pygments_lexer": "ipython3",
   "version": "3.6.3"
  }
 },
 "nbformat": 4,
 "nbformat_minor": 4
}
